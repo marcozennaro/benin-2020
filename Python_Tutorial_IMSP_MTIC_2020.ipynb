{
 "cells": [
  {
   "cell_type": "markdown",
   "metadata": {},
   "source": [
    "# <a id = 'toc'>Table of contents</a>\n",
    "\n",
    "### [About Python](#About_Python)\n",
    "\n",
    "### [Installation](#Installation)\n",
    "\n",
    "### [Basics](#basics)\n",
    "\n",
    "### [Operators and Expressions](#OpExp)\n",
    "\n",
    "### [Control Flow](Control_Flow)\n"
   ]
  },
  {
   "cell_type": "markdown",
   "metadata": {},
   "source": [
    "# <a id='About_Python'>About Python</a>\n",
    "\n",
    "Python is probably one of the few programming languages which is both simple and powerful.  You will find yourself pleasantly surprisedto see how easy it is to concentrate on the solution to the problem rather than the syntax and structure of the language you are programming in. This is good for beginners as wellas for experts, and more importantly, is fun to program with. This tutorial aims to help you learn this wonderful language and show how to get things done quickly and painlessly."
   ]
  },
  {
   "cell_type": "markdown",
   "metadata": {},
   "source": [
    "### Story behind the name\n",
    "__Guido van Rossum__, the creator of the Python language, named the language after the BBC show \"Monty Python's Flying Circus\".He doesn't particularly like snakes that kill animals for food by winding their long bodies around them and crushing them."
   ]
  },
  {
   "cell_type": "markdown",
   "metadata": {},
   "source": [
    "### Features of Python\n",
    "\n",
    "__Simple__\n",
    "\n",
    "Python is a simple and minimalistic language. Reading a good Python program feels almost like reading English, although verystrict English! This pseudo-code nature of Python is one of its greatest strengths. It allows you to concentrate on the solution to theproblem rather than the language itself.\n",
    "\n",
    "__Easy to Learn__\n",
    "\n",
    "As you will see, Python is extremely easy to get started with. Python has an extraordinarily simple syntax, as already mentioned.\n",
    "\n",
    "__Free and Open Source__\n",
    "\n",
    "Python is an example of a FLOSS (Free/Libré and Open Source Software). In simple terms, you can freely distribute copies of thissoftware, read its source code, make changes to it, and use pieces of it in new free programs. FLOSS is based on the concept of acommunity which shares knowledge. This is one of the reasons why Python is so good - it has been created and is constantlyimproved by a community who just want to see a better Python.\n",
    "\n",
    "__High-level Language__\n",
    "\n",
    "When you write programs in Python, you never need to bother about the low-level details such as managing the memory used byyour program, etc.\n",
    "\n",
    "__Portable__\n",
    "\n",
    "Due to its open-source nature, Python has been ported to (i.e. changed to make it work on) many platforms. All your Pythonprograms can work on any of these platforms without requiring any changes at all if you are careful enough to avoid any system-dependent features.\n",
    "\n",
    "You can use Python on GNU/Linux, Windows, FreeBSD, Macintosh, Solaris, OS/2, Amiga, AROS, AS/400, BeOS, OS/390,z/OS, Palm OS, QNX, VMS, Psion, Acorn RISC OS, VxWorks, PlayStation, Sharp Zaurus, Windows CE and PocketPC!\n",
    "You can even use a platform like Kivy to create games for your computer and for iPhone, iPad, and Android.\n",
    "\n",
    "__Interpreted__\n",
    "\n",
    "This requires a bit of explanation. A program written in a compiled language like C or C++ is converted from the source language i.e. C or C++ into a language thatis spoken by your computer (binary code i.e. 0s and 1s) using a compiler with various flags and options. When you run theprogram, the linker/loader software copies the program from hard disk to memory and starts running it.Python, on the other hand, does not need compilation to binary. You just run the program directly from the source code.Internally, Python converts the source code into an intermediate form called bytecodes and then translates this into the nativelanguage of your computer and then runs it. All this, actually, makes using Python much easier since you don't have to worryabout compiling the program, making sure that the proper libraries are linked and loaded, etc. This also makes your Pythonprograms much more portable, since you can just copy your Python program onto another computer and it just works!\n",
    "\n",
    "__Object Oriented__\n",
    "\n",
    "Python supports procedure-oriented programming as well as object-oriented programming. In procedure-oriented languages, theprogram is built around procedures or functions which are nothing but reusable pieces of programs. In object-oriented languages,the program is built around objects which combine data and functionality. Python has a very powerful but simplistic way of doingOOP, especially when compared to big languages like C++ or Java.\n",
    "\n",
    "__Extensible__\n",
    "\n",
    "If you need a critical piece of code to run very fast or want to have some piece of algorithm not to be open, you can code that partof your program in C or C++ and then use it from your Python program.\n",
    "\n",
    "__Embeddable__\n",
    "\n",
    "You can embed Python within your C/C++ programs to give scripting capabilities for your program's users.\n",
    "\n",
    "__Extensive Libraries__\n",
    "\n",
    "The Python Standard Library is huge indeed. It can help you do various things involving regular expressions,documentationgeneration, unit testing, threading, databases, web browsers, CGI, FTP, email, XML, XML-RPC, HTML, WAV files,cryptography, GUI (graphical user interfaces), and other system-dependent stuff. Remember, all this is always available whereverPython is installed. This is called the Batteries Included philosophy of Python.Besides the standard library, there are various other high-quality libraries which you can find at the Python Package Index.\n",
    "\n",
    " __Summary__\n",
    "\n",
    "Python is indeed an exciting and powerful language. It has the right combination of performance and features that make writingprograms in Python both fun and easy."
   ]
  },
  {
   "cell_type": "markdown",
   "metadata": {},
   "source": [
    "# <a id='Installation'>Installation</a> \n",
    "\n",
    "There is many ways to use __python__. We can use  __The Interpreter Prompt__ by typing in a terminal __python3__ after installed and added it eventually to the environment path. We can also use an __IDE__ like __PyCham__, __Visual Studio Code (VSCode)__ , __IntelliJ__ or __Jupyter notebook__ to be more ease.\n",
    "\n",
    "In our case, we're going to use __Jupyter notebook__\n",
    "\n",
    "### GNU/Linux\n",
    "Please refer the instructions on this link to install  __Jupyter notebook__ with its dependency __Anaconda__:\n",
    "https://mas-dse.github.io/startup/anaconda-ubuntu-install/\n",
    "\n",
    "\n",
    "### Windows\n",
    "Search on google and download the __.EXE__ file of __Anaconda__ and install it.\n",
    "\n",
    "\n",
    "__NB:__ After installation, to get started, type in a terminal __python3 -m notebook__\n",
    "\n",
    "\n",
    "#### we can also use google Colab in case there is internet connexion access"
   ]
  },
  {
   "cell_type": "markdown",
   "metadata": {},
   "source": [
    "# <a id='basics'>Basics</a>\n",
    "\n",
    "Just printing _hello world_ is not enough, is it? You want to do more than that - you want to take some input, manipulate it andget something out of it. We can achieve this in Python using constants and variables, and we'll learn some other concepts as wellin this chapter.\n",
    "\n",
    "### Comments\n",
    "_Comments_ are any text to the right of the # symbol and is mainly useful as notes for the reader of the program.\n",
    "\n",
    "For example:"
   ]
  },
  {
   "cell_type": "code",
   "execution_count": 1,
   "metadata": {},
   "outputs": [
    {
     "name": "stdout",
     "output_type": "stream",
     "text": [
      "hello world\n"
     ]
    }
   ],
   "source": [
    "print('hello world') # Note that print is a function"
   ]
  },
  {
   "cell_type": "markdown",
   "metadata": {},
   "source": [
    "or:"
   ]
  },
  {
   "cell_type": "code",
   "execution_count": 2,
   "metadata": {},
   "outputs": [
    {
     "name": "stdout",
     "output_type": "stream",
     "text": [
      "hello world\n"
     ]
    }
   ],
   "source": [
    "# Note that print is a function\n",
    "print('hello world')"
   ]
  },
  {
   "cell_type": "markdown",
   "metadata": {},
   "source": [
    "Use as many useful comments as you can in your program to:\n",
    "- explain assumptions\n",
    "- explain important decisions\n",
    "- explain important details\n",
    "- explain problems you're trying to solveexplain problems you're trying to overcome in your program, etc.\n",
    "\n",
    "___Code tells you how, comments should tell you why.___\n",
    "\n",
    "This is useful for readers of your program so that they can easily understand what the program is doing. Remember, that person can be yourself after six months!\n",
    "\n",
    "### Literal Constants\n",
    "An example of a literal constant is a number like 5, 1.23, or a string like 'This is a string' or \"It's a string!\".\n",
    "\n",
    "It is called a literal because it is literal - you use its value literally. The number 2 always represents itself and nothing else - it isa constant because its value cannot be changed. Hence, all these are referred to as literal constants.\n",
    "\n",
    "### Numbers\n",
    "Numbers are mainly of two types - integers and floats. An example of an integer is 2 which is just a whole number.Examples of floating point numbers (or floats for short) are 3.23 and 52.3E-4. The E notation indicates powers of 10. In this case, 52.3E-4 means 52.3 * 10^-4^."
   ]
  },
  {
   "cell_type": "markdown",
   "metadata": {},
   "source": [
    "___Note for Experienced Programmers___\n",
    "\n",
    "_There is no separate long type. The int type can be an integer of any size_\n"
   ]
  },
  {
   "cell_type": "markdown",
   "metadata": {},
   "source": [
    "### Strings\n",
    "A string is a sequence of characters. Strings are basically just a bunch of words. You will be using strings in almost every Python program that you write, so pay attention to the following part.\n",
    "\n",
    "### Single Quote\n",
    "You can specify strings using single quotes such as 'Quote me on this'. All white space i.e. spaces and tabs, within the quotes, are preserved as-is.\n",
    "\n",
    "### Double Quotes\n",
    "Strings in double quotes work exactly the same way as strings in single quotes. An example is \"What's your name?\".\n",
    "\n",
    "### Triple Quotes\n",
    "You can specify multi-line strings using triple quotes - (\"\"\" or '''). You can use single quotes and double quotes freelywithin the triple quotes. An example is:"
   ]
  },
  {
   "cell_type": "code",
   "execution_count": 3,
   "metadata": {},
   "outputs": [
    {
     "data": {
      "text/plain": [
       "' This is a multi-line string. This is the first line.\\nThis is the second line.\\n\"What\\'s your name?,\" I asked.\\nHe said \"Bond, James Bond.\"\\n'"
      ]
     },
     "execution_count": 3,
     "metadata": {},
     "output_type": "execute_result"
    }
   ],
   "source": [
    "''' This is a multi-line string. This is the first line.\n",
    "This is the second line.\n",
    "\"What's your name?,\" I asked.\n",
    "He said \"Bond, James Bond.\"\n",
    "'''"
   ]
  },
  {
   "cell_type": "markdown",
   "metadata": {},
   "source": [
    "### Strings Are Immutable\n",
    "This means that once you have created a string, you cannot change it. Although this might seem like a bad thing, it really isn't. Wewill see why this is not a limitation in the various programs that we see later on.\n",
    "\n",
    "___Note for C/C++ Programmers___\n",
    "\n",
    "_There is no separate char data type in Python. There is no real need for it and I am sure you won't miss it._\n",
    "\n",
    "___Note for Perl/PHP Programmers___\n",
    "\n",
    "_Remember that single-quoted strings and double-quoted strings are the same - they do not differ in any way_.\n",
    "\n",
    "### The format method\n",
    "Sometimes we may want to construct strings from other information. This is where the format() method is useful."
   ]
  },
  {
   "cell_type": "code",
   "execution_count": 4,
   "metadata": {},
   "outputs": [
    {
     "name": "stdout",
     "output_type": "stream",
     "text": [
      "Swaroop was 20 years old when he wrote this book\n",
      "Why is Swaroop playing with that python?\n"
     ]
    }
   ],
   "source": [
    "age = 20\n",
    "name = 'Swaroop'\n",
    "print('{0} was {1} years old when he wrote this book'.format(name, age))\n",
    "print('Why is {0} playing with that python?'.format(name))"
   ]
  },
  {
   "cell_type": "markdown",
   "metadata": {},
   "source": [
    "#### How It Works\n",
    "A string can use certain specifications and subsequently, the format method can be called to substitute those specifications withcorresponding arguments to the _format_ method.\n",
    "\n",
    "Observe the first usage where we use {0} and this corresponds to the variable name which is the first argument to the format method. Similarly, the second specification is {1} corresponding to age which is the second argument to the format method. Note that Python starts counting from 0 which means that first position is at index 0, second position is at index 1, and so on.\n",
    "\n",
    "Notice that we could have achieved the same using string concatenation:"
   ]
  },
  {
   "cell_type": "code",
   "execution_count": 5,
   "metadata": {},
   "outputs": [
    {
     "data": {
      "text/plain": [
       "'Swaroop is 20 years old'"
      ]
     },
     "execution_count": 5,
     "metadata": {},
     "output_type": "execute_result"
    }
   ],
   "source": [
    "name + ' is ' + str(age) + ' years old'"
   ]
  },
  {
   "cell_type": "markdown",
   "metadata": {},
   "source": [
    "But that is much uglier and error-prone. Second, the conversion to string would be done automatically by the format method instead of the explicit conversion to strings needed in this case. Third, when using the format method, we can change themessage without having to deal with the variables used and vice-versa.\n",
    "\n",
    "Also note that the numbers are optional, so you could have also written as"
   ]
  },
  {
   "cell_type": "code",
   "execution_count": null,
   "metadata": {},
   "outputs": [],
   "source": [
    "age = 20\n",
    "name = 'Swaroop'\n",
    "print('{} was {} years old when he wrote this book'.format(name, age))\n",
    "print('Why is {} playing with that python?'.format(name))"
   ]
  },
  {
   "cell_type": "markdown",
   "metadata": {},
   "source": [
    "which will give the same exact output as the previous program.\n",
    "\n",
    "We can also name the parameters:"
   ]
  },
  {
   "cell_type": "code",
   "execution_count": 6,
   "metadata": {},
   "outputs": [
    {
     "name": "stdout",
     "output_type": "stream",
     "text": [
      "Swaroop was 20 years old when he wrote this book\n",
      "Why is Swaroop playing with that python?\n"
     ]
    }
   ],
   "source": [
    "age = 20\n",
    "name = 'Swaroop'\n",
    "print('{name} was {age} years old when he wrote this book'.format(name=name, age=age))\n",
    "print('Why is {name} playing with that python?'.format(name=name))"
   ]
  },
  {
   "cell_type": "markdown",
   "metadata": {},
   "source": [
    "which will give the same exact output as the previous program.\n",
    "\n",
    "Python 3.6 introduced a shorter way to do named parameters, called \"f-strings\":"
   ]
  },
  {
   "cell_type": "code",
   "execution_count": 7,
   "metadata": {},
   "outputs": [
    {
     "name": "stdout",
     "output_type": "stream",
     "text": [
      "Swaroop was 20 years old when he wrote this book\n",
      "Why is Swaroop playing with that python?\n"
     ]
    }
   ],
   "source": [
    "age = 20\n",
    "name = 'Swaroop'\n",
    "print(f'{name} was {age} years old when he wrote this book')  # notice the 'f' before the string\n",
    "print(f'Why is {name} playing with that python?')  # notice the 'f' before the string"
   ]
  },
  {
   "cell_type": "markdown",
   "metadata": {},
   "source": [
    "which will give the same exact output as the previous program.\n",
    "\n",
    "What Python does in the _format_ method is that it substitutes each argument value into the place of the specification. There can be more detailed specifications such as :"
   ]
  },
  {
   "cell_type": "code",
   "execution_count": 9,
   "metadata": {},
   "outputs": [
    {
     "name": "stdout",
     "output_type": "stream",
     "text": [
      "0.000\n",
      "___hello___\n",
      "Swaroop wrote A Byte of Python\n"
     ]
    }
   ],
   "source": [
    "# decimal (.) precision of 3 for float '0.333'\n",
    "print('{0:.3f}'.format(1/3))\n",
    "# fill with underscores (_) with the text centered\n",
    "# (^) to 11 width '___hello___'\n",
    "print('{0:_^11}'.format('hello'))# keyword-based 'Swaroop wrote A Byte of Python'\n",
    "print('{name} wrote {book}'.format(name='Swaroop', book='A Byte of Python'))"
   ]
  },
  {
   "cell_type": "markdown",
   "metadata": {},
   "source": [
    "Since we are discussing formatting, note that print always ends with an invisible \"new line\" character (\\n) so that repeatedcalls to print will all print on a separate line each. To prevent this newline character from being printed, you can specify that itshould end with a blank:"
   ]
  },
  {
   "cell_type": "code",
   "execution_count": 10,
   "metadata": {},
   "outputs": [
    {
     "name": "stdout",
     "output_type": "stream",
     "text": [
      "ab"
     ]
    }
   ],
   "source": [
    "print('a', end='')\n",
    "print('b', end='')"
   ]
  },
  {
   "cell_type": "markdown",
   "metadata": {},
   "source": [
    "Or you can end with a space:"
   ]
  },
  {
   "cell_type": "code",
   "execution_count": null,
   "metadata": {},
   "outputs": [],
   "source": [
    "print('a', end=' ')\n",
    "print('b', end=' ')\n",
    "print('c')"
   ]
  },
  {
   "cell_type": "markdown",
   "metadata": {},
   "source": [
    "### Escape Sequences\n",
    "Suppose, you want to have a string which contains a single quote ('), how will you specify this string? For example, the stringis _\"What's your name?\"_. You cannot specify _'What's your name?'_ because Python will be confused as to where the stringstarts and ends. So, you will have to specify that this single quote does not indicate the end of the string. This can be done with thehelp of what is called an escape sequence. You specify the single quote as \\' : notice the backslash. Now, you can specify thestring as _'What\\'s your name?'_. \n",
    "\n",
    "Another way of specifying this specific string would be _\"What's your name?\"_ i.e. using double quotes. Similarly, you have touse an escape sequence for using a double quote itself in a double quoted string. Also, you have to indicate the backslash itselfusing the escape sequence \\\\. \n",
    "\n",
    "What if you wanted to specify a two-line string? One way is to use a triple-quoted string as shown previously or you can use an escape sequence for the newline character - \\n to indicate the start of a new line. An example is :"
   ]
  },
  {
   "cell_type": "code",
   "execution_count": 12,
   "metadata": {},
   "outputs": [
    {
     "name": "stdout",
     "output_type": "stream",
     "text": [
      "This is the first line\n",
      "This is the second line\n"
     ]
    }
   ],
   "source": [
    "print('This is the first line\\nThis is the second line')"
   ]
  },
  {
   "cell_type": "markdown",
   "metadata": {},
   "source": [
    "Another useful escape sequence to know is the tab: \\t. There are many more escape sequences but I have mentioned only the most useful ones here.\n",
    "\n",
    "One thing to note is that in a string, a single backslash at the end of the line indicates that the string is continued in the next line, but no newline is added. For example:"
   ]
  },
  {
   "cell_type": "code",
   "execution_count": 13,
   "metadata": {},
   "outputs": [
    {
     "name": "stdout",
     "output_type": "stream",
     "text": [
      "This is the first sentence. This is the second sentence.\n"
     ]
    }
   ],
   "source": [
    "print(\"This is the first sentence. \\\n",
    "This is the second sentence.\")"
   ]
  },
  {
   "cell_type": "markdown",
   "metadata": {},
   "source": [
    "is equivalent to :"
   ]
  },
  {
   "cell_type": "code",
   "execution_count": 14,
   "metadata": {},
   "outputs": [
    {
     "name": "stdout",
     "output_type": "stream",
     "text": [
      "This is the first sentence. This is the second sentence.\n"
     ]
    }
   ],
   "source": [
    "print(\"This is the first sentence. This is the second sentence.\")"
   ]
  },
  {
   "cell_type": "markdown",
   "metadata": {},
   "source": [
    "### Raw String\n",
    "If you need to specify some strings where no special processing such as escape sequences are handled, then what you need is tospecify a raw string by prefixing _r_ or _R_ to the string. An example is:"
   ]
  },
  {
   "cell_type": "code",
   "execution_count": 15,
   "metadata": {},
   "outputs": [
    {
     "name": "stdout",
     "output_type": "stream",
     "text": [
      "Newlines are indicated by \\n\n"
     ]
    }
   ],
   "source": [
    "print(r\"Newlines are indicated by \\n\")"
   ]
  },
  {
   "cell_type": "markdown",
   "metadata": {},
   "source": [
    "### _Note for Regular Expression Users_\n",
    "_Always use raw strings when dealing with regular expressions. Otherwise, a lot of backwhacking may be required. Forexample, backreferences can be referred to as '\\\\1' or r'\\1'._"
   ]
  },
  {
   "cell_type": "markdown",
   "metadata": {},
   "source": [
    "### Variable\n",
    "Using just literal constants can soon become boring - we need some way of storing any information and manipulate them as well.This is where variables come into the picture. Variables are exactly what the name implies - their value can vary, i.e., you can store anything using a variable. Variables are just parts of your computer's memory where you store some information. Unlike literal constants, you need some method of accessing these variables and hence you give them names.\n",
    "\n",
    "### Identifier Naming\n",
    "Variables are examples of identifiers. _Identifiers_ are names given to identify _something_. There are some rules you have to followfor naming identifiers:\n",
    "- The first character of the identifier must be a letter of the alphabet (uppercase ASCII or lowercase ASCII or Unicode character) or an underscore (_).\n",
    "- The rest of the identifier name can consist of letters (uppercase ASCII or lowercase ASCII or Unicode character),underscores (_) or digits (0-9).\n",
    "- Identifier names are case-sensitive. For example, myname and myName are not the same. Note the lowercase n in theformer and the uppercase N in the latter.\n",
    "- Examples of valid identifier names are i, name_2_3. Examples of invalid identifier names are 2things, this isspaced out, my-name and >a1b2_c3.\n",
    "\n",
    "### Data Types\n",
    "Variables can hold values of different types called _data types_. The basic types are numbers and strings, which we have alreadydiscussed. In later chapters, we will see how to create our own types using classes.\n",
    "\n",
    "### Object\n",
    "Remember, Python refers to anything used in a program as an _object_. This is meant in the generic sense. Instead of saying _\"the something\"_, we say _\"the object\"_.\n",
    "\n",
    "#### _Note for Object Oriented Programming users:_\n",
    "_Python is strongly object-oriented in the sense that everything is an object including numbers, strings and functions._\n"
   ]
  },
  {
   "cell_type": "markdown",
   "metadata": {},
   "source": [
    "# How to write Python programs\n",
    "\n",
    "1. Open your editor of choice.\n",
    "2. Type the program code given in the example.\n",
    "3. Save it as a file with the filename mentioned.\n",
    "4. Run the interpreter with the command ___python program.py___ to run the program\n",
    "\n",
    "### Example: Using Variables And Literal Constants\n",
    "Type and run the following program:\n"
   ]
  },
  {
   "cell_type": "code",
   "execution_count": 16,
   "metadata": {},
   "outputs": [
    {
     "name": "stdout",
     "output_type": "stream",
     "text": [
      "5\n",
      "6\n",
      "This is a multi-line string.\n",
      "This is the second line.\n"
     ]
    }
   ],
   "source": [
    "# Filename : var.py\n",
    "i = 5\n",
    "print(i)\n",
    "i = i + 1\n",
    "print(i)\n",
    "s = '''This is a multi-line string.\n",
    "This is the second line.'''\n",
    "print(s)"
   ]
  },
  {
   "cell_type": "markdown",
   "metadata": {},
   "source": [
    "__How It Works ?__\n",
    "\n",
    "#### _Note for static language programmers_\n",
    "_Variables are used by just assigning them a value. No declaration or data type definition is needed/used._\n",
    "\n",
    "### Logical And Physical Line\n",
    "A _physical line_ is what you see when you write the program. A _logical line_ is what __Python__ sees as a single statement. Python implicitly assumes that each _physical line_ corresponds to a _logical line_. \n",
    "\n",
    "An example of a logical line is a statement like __print('hello world')__ - if this was on a line by itself (as you see it in an editor),then this also corresponds to a physical line.\n",
    "\n",
    "Implicitly, Python encourages the use of a single statement per line which makes code more readable.\n",
    "\n",
    "If you want to specify more than one logical line on a single physical line, then you have to explicitly specify this using asemicolon (;) which indicates the end of a logical line/statement. For example:"
   ]
  },
  {
   "cell_type": "code",
   "execution_count": 17,
   "metadata": {},
   "outputs": [
    {
     "name": "stdout",
     "output_type": "stream",
     "text": [
      "5\n",
      "5\n",
      "5\n",
      "5\n"
     ]
    }
   ],
   "source": [
    "i = 5\n",
    "print(i)\n",
    "\n",
    "# is effectively same as\n",
    "i = 5;print(i);\n",
    "\n",
    "# which is also same as\n",
    "i = 5; print(i);\n",
    "\n",
    "#and same as\n",
    "i = 5; print(i)"
   ]
  },
  {
   "cell_type": "markdown",
   "metadata": {},
   "source": [
    "However, I _strongly recommend that you stick to writing a maximum of a single logical line on each single physical line._ The idea is that you should never use the semicolon. In fact, I have never used or even seen a semicolon in a Python program.\n",
    "\n",
    "There is one kind of situation where this concept is really useful: if you have a long line of code, you can break it into multiplephysical lines by using the backslash. This is referred to as _explicit line joining_:"
   ]
  },
  {
   "cell_type": "code",
   "execution_count": 18,
   "metadata": {},
   "outputs": [
    {
     "name": "stdout",
     "output_type": "stream",
     "text": [
      "This is a string. This continues the string.\n"
     ]
    }
   ],
   "source": [
    "s = 'This is a string. \\\n",
    "This continues the string.'\n",
    "print(s)\n",
    "\n",
    "#Similarly,\n",
    "i = \\\n",
    "5\n",
    "\n",
    "#is the same as\n",
    "i = 5"
   ]
  },
  {
   "cell_type": "markdown",
   "metadata": {},
   "source": [
    "Sometimes, there is an implicit assumption where you don't need to use a backslash. This is the case where the logical line has astarting parentheses, starting square brackets or a starting curly braces but not an ending one. This is called _implicit line joining_.You can see this in action when we write programs using list in later chapters.\n",
    "\n",
    "### Indentation\n",
    "Whitespace is important in Python. Actually, _whitespace at the beginning of the line is important_. This is called __indentation__. Leading whitespace (spaces and tabs) at the beginning of the logical line is used to determine the indentation level of the logicalline, which in turn is used to determine the grouping of statements.\n",
    "\n",
    "This means that statements which go together _must_ have the same indentation. Each such set of statements is called a _block_. We will see examples of how blocks are important in later chapters.\n",
    "\n",
    "One thing you should remember is that wrong indentation can give rise to errors. For example:"
   ]
  },
  {
   "cell_type": "code",
   "execution_count": 19,
   "metadata": {},
   "outputs": [
    {
     "ename": "IndentationError",
     "evalue": "unexpected indent (<ipython-input-19-7707951199d9>, line 3)",
     "output_type": "error",
     "traceback": [
      "\u001b[0;36m  File \u001b[0;32m\"<ipython-input-19-7707951199d9>\"\u001b[0;36m, line \u001b[0;32m3\u001b[0m\n\u001b[0;31m    print('Value is', i)\u001b[0m\n\u001b[0m    ^\u001b[0m\n\u001b[0;31mIndentationError\u001b[0m\u001b[0;31m:\u001b[0m unexpected indent\n"
     ]
    }
   ],
   "source": [
    "i = 5\n",
    "# Error below! Notice a single space at the start of the line \n",
    " print('Value is', i)\n",
    "print('I repeat, the value is', i)"
   ]
  },
  {
   "cell_type": "markdown",
   "metadata": {},
   "source": [
    "When you run this, you get the following error:\n",
    "\n",
    "File \"whitespace.py\",line 3    \n",
    "  print('Value is', i)    \n",
    "  ^\n",
    "IndentationError: unexpected indent\n",
    "\n",
    "Notice that there is a single space at the beginning of the second line. The error indicated by Python tells us that the syntax of theprogram is invalid i.e. the program was not properly written. What this means to you is that _you cannot arbitrarily start new blocks_ of statements (except for the default main block which you have been using all along, of course). Cases where you can use new blocks will be detailed in later chapters such as the control flow.\n",
    "\n",
    "#### _How to indent_\n",
    "_Use four spaces for indentation. This is the official Python language recommendation. Good editors will automatically dothis for you. Make sure you use a consistent number of spaces for indentation, otherwise your program will not run or willhave unexpected behavior._\n",
    "\n",
    "#### _Note to static language programmers_\n",
    "_Python will always use indentation for blocks and will never use braces. Run from __\\_\\_future\\____ import braces to learn more._"
   ]
  },
  {
   "cell_type": "markdown",
   "metadata": {},
   "source": [
    "__Summary__\n",
    "\n",
    "Now that we have gone through many nitty-gritty details, we can move on to more interesting stuff such as control flowstatements. Be sure to become comfortable with what you have read in this chapter."
   ]
  },
  {
   "cell_type": "markdown",
   "metadata": {},
   "source": [
    "# <a id='OpExp'> Operators and Expressions</a>\n",
    "\n"
   ]
  },
  {
   "cell_type": "markdown",
   "metadata": {},
   "source": [
    "Most statements (logical lines) that you write will contain expressions. A simple example of an expression is `2 + 3`. An expression can be broken down into operators and operands.\n",
    "\n",
    "_Operators_ are functionality that do something and can be represented by symbols such as ` + ` or by special keywords. Operators require some data to operate on and such data is called operands. In this case, ` 2 ` and ` 3 ` are the operands.\n",
    "\n",
    "### Operators\n",
    "\n",
    "We will briefly take a look at the operators and their usage.\n",
    "\n",
    "Note that you can evaluate the expressions given in the examples using the interpreter interactively. For example, to test theexpression ` 2 + 3`, use the interactive Python interpreter prompt:"
   ]
  },
  {
   "cell_type": "code",
   "execution_count": null,
   "metadata": {},
   "outputs": [],
   "source": [
    "2 + 3"
   ]
  },
  {
   "cell_type": "code",
   "execution_count": null,
   "metadata": {},
   "outputs": [],
   "source": [
    "3 * 5"
   ]
  },
  {
   "cell_type": "markdown",
   "metadata": {},
   "source": [
    "Here is a quick overview of the available operators:\n",
    "\n",
    "- `+` (plus)\n",
    "\n",
    "  Adds two objects\n",
    "\n",
    "  `3 + 5` gives `8`. `'a' + 'b'` gives `'ab'`.\n",
    "  \n",
    "\n",
    "- `-` (minus)\n",
    "\n",
    "  Gives the subtraction of one number from the other; if the first operand is absent it is assumed to be zero.\n",
    "\n",
    "  `-5.2` gives a negative number and `50 - 24` gives `26`.\n",
    "  \n",
    "\n",
    "- `*` (multiply)\n",
    "\n",
    "  Gives the multiplication of the two numbers or returns the string repeated that many times.\n",
    "  \n",
    "  `2 * 3` gives `6`. `'la' * 3` gives `'lalala'`.\n",
    "  \n",
    "\n",
    "- `**` (power)\n",
    "\n",
    "   Returns x to the power of y\n",
    "   \n",
    "   `3 ** 4` gives `81` (i.e. `3 * 3 * 3 * 3`)\n",
    "   \n",
    "   \n",
    "- `/` (divide)\n",
    "\n",
    "   Divide x by y\n",
    "   \n",
    "   `13 / 3` gives `4.333333333333333`\n",
    "   \n",
    "   \n",
    "- `//` (divide and floor)\n",
    "\n",
    "   Divide x by y and round the answer down to the nearest integer value. Note that if one of the values is a float, you'll getback a float.\n",
    "   \n",
    "   `13 // 3` gives `4`  `-13 // 3` gives `-5`  `9//1.81` gives `4.0`\n",
    "\n",
    "\n",
    "- `%` (modulo)\n",
    "   \n",
    "   Returns the remainder of the division ̀\n",
    "   \n",
    "   `13 % 3` gives `1`.\n",
    "   \n",
    "   `-25.5 % 2.25` gives `1.5`.\n",
    "   \n",
    "\n",
    "- `<<` (left shift)\n",
    "\n",
    "   Shifts the bits of the number to the left by the number of bits specified. (Each number is represented in memory by bits or binary digits i.e. 0 and 1)\n",
    "   \n",
    "   `2 << 2` gives `8`. `2` is represented by `10` in bits. Left shifting by ̀`2` bits gives ̀`1000` which represents the decimal `8`.\n",
    "   \n",
    "   \n",
    "- `>>` (right shift)\n",
    "\n",
    "   Shifts the bits of the number to the right by the number of bits specified.\n",
    "   \n",
    "   `11 >> 1` gives `5`. `11` is represented in bits by `1011` which when right shifted by `1` bit gives `101` which is the decimal `5`.\n",
    "   \n",
    "   \n",
    "- `&` (bit-wise AND)\n",
    "\n",
    "   Bit-wise AND of the numbers: if both bits are `1`, the result is `1`. Otherwise, it's `0`.\n",
    "   \n",
    "   `5 & 3` gives `1` (`0101 & 0011` gives `0001`)\n",
    "   \n",
    "   \n",
    "- `|` (bit-wise OR)\n",
    "\n",
    "   Bitwise OR of the numbers: if both bits are `0`, the result is `0`. Otherwise, it's `1`.\n",
    "   \n",
    "   `5 | 3` gives `7` (`0101 | 0011` gives `0111`)\n",
    "   \n",
    "   \n",
    "- `^` (bit-wise XOR)\n",
    "\n",
    "   Bitwise XOR of the numbers: if both bits (`1` or `0`) are the same, the result is `0`. Otherwise, it's `1`.\n",
    "   \n",
    "   `5 ^ 3` gives `6` (`O101 ^ 0011` gives `0110`)\n",
    "   \n",
    "   \n",
    "- `~` (bit-wise invert)\n",
    "\n",
    "   The bit-wise inversion of `x` is `-(x+1)`\n",
    "   \n",
    "   `~5` gives `-6`. More details at http://stackoverflow.com/a/11810203\n",
    "   \n",
    "- `<` (less than)\n",
    "\n",
    "   Returns whether x is less than y. All comparison operators return True or False. Note the capitalization of these names.\n",
    "   \n",
    "   `5 < 3` gives `False` and `3 < 5` gives `True`.\n",
    "   \n",
    "   Comparisons can be chained arbitrarily: `3 < 5 < 7` gives `True`.\n",
    "   \n",
    "   \n",
    "- `>` (greater than)\n",
    "\n",
    "   Returns whether x is greater than y\n",
    "   \n",
    "   `5 > 3` returns `True`. If both operands are numbers, they are first converted to a common type. Otherwise, it always returns `False`.\n",
    "   \n",
    "   \n",
    "- `<=` (less than or equal to)\n",
    "\n",
    "   Returns whether x is less than or equal to y\n",
    "   \n",
    "   `x = 3; y = 6; x <= y` returns `True`\n",
    "   \n",
    "   \n",
    "- `>=` (greater than or equal to)\n",
    "\n",
    "   Returns whether x is greater than or equal to y\n",
    "   \n",
    "   `x = 4; y = 3; x >= 3` returns `True`\n",
    "   \n",
    "   \n",
    "- `==` (equal to)\n",
    "\n",
    "   Compares if the objects are equal\n",
    "   \n",
    "   `x = 2; y = 2; x == y` returns `True`\n",
    "   \n",
    "   `x = 'str'; y = 'stR'; x == y` returns `False`\n",
    "   \n",
    "   `x = 'str'; y = 'str'; x == y` returns `True`\n",
    "   \n",
    "   \n",
    "- `!=` (not equal to)\n",
    "   \n",
    "   Compares if the objects are not equal \n",
    "   \n",
    "   `x = 2; y = 3; x != y` returns True \n",
    "\n",
    "- `not` (boolean NOT)\n",
    "\n",
    "   If x is `True`, it returns `False`. If x is `False`, it returns `True`.\n",
    "   \n",
    "   `x = True; not x` returns `False`.\n",
    "   \n",
    "- `and` (boolean AND)\n",
    "\n",
    "   `x and y` returns `False` if x is False, else it returns evaluation of y\n",
    "   \n",
    "   `x = False; y = True; x and y` returns `False` since x is False. In this case, Python will not evaluate y since it knowsthat the left hand side of the 'and' expression is False which implies that the whole expression will be Falseirrespective of the other values. This is called short-circuit evaluation.\n",
    "   \n",
    "- `or` (boolean OR)\n",
    "\n",
    "   If x is `True`, it returns True, else it returns evaluation of y\n",
    "   \n",
    "   `x = True; y = False; x or y` returns `True`. Short-circuit evaluation applies here as well.\n",
    "   \n",
    "   ### Shortcut for math operation and assignment \n",
    "   \n",
    "   It is common to run a math operation on a variable and then assign the result of the operation back to the variable, hence there is ashortcut for such expressions:"
   ]
  },
  {
   "cell_type": "code",
   "execution_count": null,
   "metadata": {},
   "outputs": [],
   "source": [
    "a = 2\n",
    "a = a * 3\n",
    "\n",
    "#can be written as:\n",
    "a = 2\n",
    "a *= 3"
   ]
  },
  {
   "cell_type": "markdown",
   "metadata": {},
   "source": [
    "Notice that `var = var operation expression` becomes `var operation= expression`.\n",
    "\n",
    "# Evaluation Order\n",
    "\n",
    "If you had an expression such as `2 + 3 * 4`, is the addition done first or the multiplication? Our high school maths tells us thatthe multiplication should be done first. This means that the multiplication operator has higher precedence than the addition operator.\n",
    "\n",
    "The following table gives the precedence table for Python, from the lowest precedence (least binding) to the highest precedence(most binding). This means that in a given expression, Python will first evaluate the operators and expressions lower in the table before the ones listed higher in the table.\n",
    "\n",
    "The following table, taken from the Python reference manual, is provided for the sake of completeness. It is far better to useparentheses to group operators and operands appropriately in order to explicitly specify the precedence. This makes the programmore readable. See Changing the Order of Evaluation below for details.\n",
    "\n",
    "- `lambda` : Lambda Expression\n",
    "\n",
    "- `if - else` : Conditional expression\n",
    "\n",
    "- `or` : Boolean OR\n",
    "\n",
    "- `and` : Boolean AND\n",
    "\n",
    "- `not x` : Boolean NOT\n",
    "\n",
    "- `in, not in, is, is not, <, <=, >, >=, !=, ==` : Comparisons, including membership tests and identity tests\n",
    "\n",
    "- `|` : Bitwise OR\n",
    "\n",
    "- `^` : Bitwise XOR\n",
    "\n",
    "- `&` : Bitwise AND\n",
    "\n",
    "- `<<, >>̀ : Shifts\n",
    "\n",
    "- `+, -` : Addition and subtraction\n",
    "\n",
    "- `*, /, //, %` : Multiplication, Division, Floor Division and Remainder\n",
    "\n",
    "- `+x, -x, ~x` : Positive, Negative, bitwise NOT\n",
    "\n",
    "- `**` : Exponentiation\n",
    "\n",
    "- `x[index], x[index:index], x(arguments...), x.attribute` : Subscription, slicing, call, attribute reference\n",
    "\n",
    "- `(expressions...), [expressions...], {key: value...}, {expressions...}` : Binding or tuple display, list display,dictionary display, set display\n",
    "\n",
    "The operators which we have not already come across will be explained in later chapters.\n",
    "\n",
    "Operators with the same precedence are listed in the same row in the above table. For example, `+` and `-` have the same precedence.\n",
    "\n",
    "### Changing the Order Of Evaluation\n",
    "\n",
    "To make the expressions more readable, we can use parentheses. For example, `2 + (3 * 4)` is definitely easier to understandthan ̀`2 + 3 * 4` which requires knowledge of the operator precedences. As with everything else, the parentheses should be usedreasonably (do not overdo it) and should not be redundant, as in `(2 + (3 * 4))`.\n",
    "\n",
    "There is an additional advantage to using parentheses - it helps us to change the order of evaluation. For example, if you wantaddition to be evaluated before multiplication in an expression, then you can write something like `(2 + 3) * 4`.\n",
    "\n",
    "### Associativity\n",
    "\n",
    "Operators are usually associated from left to right. This means that operators with the same precedence are evaluated in a left toright manner. For example, `2 + 3 + 4` is evaluated as ̀`(2 + 3) + 4`.\n",
    "\n",
    "### Expressions\n",
    "\n",
    "Example (save as expression.py):"
   ]
  },
  {
   "cell_type": "code",
   "execution_count": null,
   "metadata": {},
   "outputs": [],
   "source": [
    "length = 5\n",
    "breadth = 2\n",
    "\n",
    "area = length * breadth\n",
    "print('Area is', area)\n",
    "print('Perimeter is', 2 * (length + breadth))"
   ]
  },
  {
   "cell_type": "markdown",
   "metadata": {},
   "source": [
    "### How It Works\n",
    "\n",
    "The length and breadth of the rectangle are stored in variables by the same name. We use these to calculate the area and perimeterof the rectangle with the help of expressions. We store the result of the expression `length * breadth` in the variable `area` andthen print it using the `print` function. In the second case, we directly use the value of the expression `2 * (length + breadth)` in the print function.\n",
    "\n",
    "Also, notice how Python pretty-prints the output. Even though we have not specified a space between `'Area is'` and the variable `area`, Python puts it for us so that we get a clean nice output and the program is much more readable this way (since wedon't need to worry about spacing in the strings we use for output). This is an example of how Python makes life easy for the programmer.\n",
    "\n",
    "__Summary__\n",
    "\n",
    "We have seen how to use operators, operands and expressions - these are the basic building blocks of any program. Next, we willsee how to make use of these in our programs using statements."
   ]
  },
  {
   "cell_type": "markdown",
   "metadata": {},
   "source": [
    "# <a id='Control_Flow'>Control Flow</a>\n"
   ]
  },
  {
   "cell_type": "code",
   "execution_count": null,
   "metadata": {},
   "outputs": [],
   "source": []
  }
 ],
 "metadata": {
  "kernelspec": {
   "display_name": "Python 3",
   "language": "python",
   "name": "python3"
  },
  "language_info": {
   "codemirror_mode": {
    "name": "ipython",
    "version": 3
   },
   "file_extension": ".py",
   "mimetype": "text/x-python",
   "name": "python",
   "nbconvert_exporter": "python",
   "pygments_lexer": "ipython3",
   "version": "3.8.5"
  }
 },
 "nbformat": 4,
 "nbformat_minor": 4
}
